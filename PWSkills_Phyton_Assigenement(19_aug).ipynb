{
  "nbformat": 4,
  "nbformat_minor": 0,
  "metadata": {
    "colab": {
      "provenance": []
    },
    "kernelspec": {
      "name": "python3",
      "display_name": "Python 3"
    },
    "language_info": {
      "name": "python"
    }
  },
  "cells": [
    {
      "cell_type": "markdown",
      "source": [
        "Declare two variables, `x` and `y`, and assign them integer values. Swap the\n",
        "values of these variables without using any temporary variable."
      ],
      "metadata": {
        "id": "pAA6hlGbCCG1"
      }
    },
    {
      "cell_type": "code",
      "source": [
        "X=10\n",
        "y=5\n",
        "y=X\n",
        "X=y-5\n",
        "print(\"The value of X is:\", X)\n",
        "print(\"The value of y is :\", y)\n"
      ],
      "metadata": {
        "colab": {
          "base_uri": "https://localhost:8080/"
        },
        "id": "-f11qXmnCDKl",
        "outputId": "f24d9aa4-682b-44f9-8d14-4dc8be1d79bc"
      },
      "execution_count": 4,
      "outputs": [
        {
          "output_type": "stream",
          "name": "stdout",
          "text": [
            "The value of X is: 5\n",
            "The value of y is : 10\n"
          ]
        }
      ]
    },
    {
      "cell_type": "markdown",
      "source": [
        "Create a program that calculates the area of a rectangle. Take the length and\n",
        "width as inputs from the user and store them in variables. Calculate and\n",
        "display the area."
      ],
      "metadata": {
        "id": "taq38w9EDK-n"
      }
    },
    {
      "cell_type": "code",
      "source": [
        "Length=int(input(\"Enter the value of length as l: \"))\n",
        "Width=int(input(\"Enter the value of width as w: \"))\n",
        "Area= Length * Width\n",
        "print(\" The area of rectangle is:\" ,Area)"
      ],
      "metadata": {
        "colab": {
          "base_uri": "https://localhost:8080/"
        },
        "id": "uoJ8zC4zDMEf",
        "outputId": "080d78ac-77af-4b7a-d64d-a1729e1fda32"
      },
      "execution_count": 5,
      "outputs": [
        {
          "output_type": "stream",
          "name": "stdout",
          "text": [
            "Enter the value of length as l: 15\n",
            "Enter the value of width as w: 20\n",
            " The area of rectangle is: 300\n"
          ]
        }
      ]
    },
    {
      "cell_type": "markdown",
      "source": [
        "Write a Python program that converts temperatures from Celsius to\n",
        "Fahrenheit. Take the temperature in Celsius as input, store it in a variable,\n",
        "convert it to Fahrenheit, and display the result."
      ],
      "metadata": {
        "id": "R_9C699nEDN1"
      }
    },
    {
      "cell_type": "code",
      "source": [
        "temp=float(input(\"Enter the value of temp as T in Celsius: \"))\n",
        "Temp=temp*9//5+32\n",
        "print(\"The temperature in Fahrenheit is:\",Temp)\n"
      ],
      "metadata": {
        "colab": {
          "base_uri": "https://localhost:8080/"
        },
        "id": "TiZiRGsIEEYk",
        "outputId": "68a4e9f3-e0da-47b9-934f-e453a57e56fb"
      },
      "execution_count": 7,
      "outputs": [
        {
          "output_type": "stream",
          "name": "stdout",
          "text": [
            "Enter the value of temp as T in Celsius: 38.6\n",
            "The temperature in Fahrenheit is: 101.0\n"
          ]
        }
      ]
    },
    {
      "cell_type": "markdown",
      "source": [
        "String based question"
      ],
      "metadata": {
        "id": "SfwaDen6KDPl"
      }
    },
    {
      "cell_type": "markdown",
      "source": [
        "1. Write a Python program that takes a string as input and prints the length of\n",
        "the string."
      ],
      "metadata": {
        "id": "Yjl11T7fKOHv"
      }
    },
    {
      "cell_type": "code",
      "source": [
        "str1=str(input(\"Enter the value of str: \"))\n",
        "print(\"The length of str1 is:\" ,len(str1))\n"
      ],
      "metadata": {
        "colab": {
          "base_uri": "https://localhost:8080/"
        },
        "id": "QbKD4DXUKue8",
        "outputId": "cd8184a7-37dc-4502-fbf8-b36b83e1b494"
      },
      "execution_count": 16,
      "outputs": [
        {
          "output_type": "stream",
          "name": "stdout",
          "text": [
            "Enter the value of str: \"Laxmima\"\n",
            "The length of str1 is: 9\n"
          ]
        }
      ]
    },
    {
      "cell_type": "markdown",
      "source": [
        "Create a program that takes a sentence from the user and counts the number\n",
        "of vowels (a, e, i, o, u) in the string."
      ],
      "metadata": {
        "id": "XBQkY4uKL285"
      }
    },
    {
      "cell_type": "code",
      "source": [
        "str2=str(input(\"Enter the value of str: \"))\n",
        "vowel_count=0\n",
        "vowels=\"aeiou\"\n",
        "for i in str2:\n",
        "  if i in vowels:\n",
        "    vowel_count+=1\n",
        "\n",
        "print(\" The vowel count in the  string is :\",vowel_count)"
      ],
      "metadata": {
        "colab": {
          "base_uri": "https://localhost:8080/"
        },
        "id": "05jEpTHqOJpn",
        "outputId": "74e96d86-ade2-4d1f-aa52-aeb07e8e053a"
      },
      "execution_count": 19,
      "outputs": [
        {
          "output_type": "stream",
          "name": "stdout",
          "text": [
            "Enter the value of str: \"My name is jyothi and am studying datascience\"\n",
            " The vowel count in the  string is : 14\n"
          ]
        }
      ]
    },
    {
      "cell_type": "markdown",
      "source": [
        "Given a string, reverse the order of characters using string slicing and print\n",
        "the reversed string."
      ],
      "metadata": {
        "id": "tflW7S9UPQ-h"
      }
    },
    {
      "cell_type": "code",
      "source": [
        "str3=\"My name is jyothi\"\n",
        "str4=str3[::-1]\n",
        "print(str4)\n",
        "\n",
        "\n"
      ],
      "metadata": {
        "colab": {
          "base_uri": "https://localhost:8080/"
        },
        "id": "yH4Dge5cPR7b",
        "outputId": "94091818-18fd-4d38-d61e-6b7bc322edb7"
      },
      "execution_count": 27,
      "outputs": [
        {
          "output_type": "stream",
          "name": "stdout",
          "text": [
            "ihtoyj si eman yM\n"
          ]
        }
      ]
    },
    {
      "cell_type": "markdown",
      "source": [
        "4. Write a program that takes a string as input and checks if it is a palindrome\n",
        "(reads the same forwards and backwards)."
      ],
      "metadata": {
        "id": "0EvqqE3hS4aU"
      }
    },
    {
      "cell_type": "code",
      "source": [
        "str5=str(input(\"Enter the value of str: \"))\n",
        "str6=str5[::-1]\n",
        "print(str6)"
      ],
      "metadata": {
        "colab": {
          "base_uri": "https://localhost:8080/"
        },
        "id": "4-utyFYrS5q1",
        "outputId": "52cd13a6-25e5-49c6-e4d0-65bf73a5d937"
      },
      "execution_count": 28,
      "outputs": [
        {
          "output_type": "stream",
          "name": "stdout",
          "text": [
            "Enter the value of str: \"Laxmima\"\n",
            "\"amimxaL\"\n"
          ]
        }
      ]
    },
    {
      "cell_type": "markdown",
      "source": [
        "5. Create a program that takes a string as input and removes all the spaces from\n",
        "it. Print the modified string without spaces."
      ],
      "metadata": {
        "id": "r6Zwpfs2UPoW"
      }
    },
    {
      "cell_type": "code",
      "source": [
        "str1=\"My name is jyothi and am studying data science\"\n",
        "str2=str1.split()\n",
        "str3=\"\".join(str2)\n",
        "print(str3)"
      ],
      "metadata": {
        "colab": {
          "base_uri": "https://localhost:8080/"
        },
        "id": "gzBnokgsTeUY",
        "outputId": "69237208-7a16-4908-da4e-f7be141f38cc"
      },
      "execution_count": 29,
      "outputs": [
        {
          "output_type": "stream",
          "name": "stdout",
          "text": [
            "Mynameisjyothiandamstudyingdatascience\n"
          ]
        }
      ]
    },
    {
      "cell_type": "code",
      "source": [],
      "metadata": {
        "id": "_l7n60u3Va_w"
      },
      "execution_count": null,
      "outputs": []
    },
    {
      "cell_type": "code",
      "source": [],
      "metadata": {
        "id": "8iAJHwCjVN-z"
      },
      "execution_count": null,
      "outputs": []
    }
  ]
}